{
 "cells": [
  {
   "cell_type": "markdown",
   "id": "ea2bb1e8-5ce4-4e51-a808-8f5022fdbeb9",
   "metadata": {},
   "source": [
    "Section 1 - Funnel Analysis\n",
    "WorkerFunnel sheet has the details of a garment manufacturing process and the productivity of the employees at the organisation. This data allows you to understand the productivity of the workers over a span of 70 days. The different columns represent the following:\n",
    "\n",
    "Column Name\tDescription\n",
    "Date\tDate in MM-DD-YYYY\n",
    "Quarter\tA portion of the month. A month was divided into four or five quarters\n",
    "Department\tAssociated department with the instance\n",
    "Targeted Productivity\tTargeted productivity set for each team for each day\n",
    "Overtime\tRepresents the amount of overtime by each team in minutes\n",
    "No. of Workers\tNumber of workers in each team\n",
    "Actual Productivity\tThe actual % of productivity that was delivered by the workers. It ranges from 0-1\n",
    "Import data from the WorkerFunnel sheet of the AssignmentData.xlsx file into a dataframe named funnel and perform exploratory analysis.\n",
    "\n",
    "Identify and appropriately handle the missing/blank and duplicate values in the dataset, and explain the logic behind your strategy in a short paragraph.\n",
    "Principal Component Analysis (PCA)\n",
    "For reference, read about Dimensionality Reduction with PCA from A guide to Principal Component Analysis (PCA), or this GeeksforGeeks article.\n",
    "\n",
    "\n",
    "(i) Perform PCA on the following standardized features: Targeted Productivity, Overtime, No. of Workers, and Actual Productivity.\n",
    "\n",
    "(ii) Determine the number of principal components that explain at least 90% of the variance in the data.\n",
    "\n",
    "(iii) Visualize the explained variance by each principal component.\n",
    "\n",
    "(iv) Provide an interpretation of the PCA results. How can these principal components be used to understand the productivity dynamics in the organization?\n",
    "\n",
    "Expectation: You need to explain what insights you gained from the analysis. Write it after your work on this question, or provide a text file\n",
    "\n",
    "Predictive Modeling and Time Series Analysis\n",
    "For reference, read about Time Series Forecasting with ARIMA from Understanding Time Series Forecasting with ARIMA.\n",
    "\n",
    "(i) Build an ARIMA model to forecast the Actual Productivity for the next four quarters (four weeks).\n",
    "\n",
    "(ii) Evaluate the model using Mean Absolute Percentage Error (MAPE) and Mean Squared Error (MSE).\n",
    "\n",
    "(iii) Visualize the forecasted vs actual productivity values, and interpret the model’s accuracy.\n",
    "\n",
    "Expectation: You are expected to create a clear and understandable chart that clearly shows the predicted productivity across the coming 4 quarters\n",
    "Clustering Analysis\n",
    "\n",
    "(i) Perform K-Means clustering on the Actual Productivity, Overtime, and No. of Workers.\n",
    "\n",
    "(ii) Determine the optimal number of clusters using the Elbow method.\n",
    "\n",
    "(iii) Visualize and interpret the clusters, focusing on how different segments of workers contribute to overall productivity.\n",
    "\n",
    "Expectation: You are expected to create a visualisation that clearly explains the different segments' contribution. Add your interpretation as well.\n",
    "Budget Allocation Strategy (Bonus)\n",
    "\n",
    "(i) The organization currently spends Rs. 8.4 lakh per quarter. Analyze the value brought by each department using Department Value = Actual Productivity / Department Quarterly Spend.\n",
    "\n",
    "(ii) Suggest a revised budget allocation strategy to maximize productivity, and justify your recommendation.\n",
    "\n",
    "(iii) Create a short PowerPoint presentation (3-4 slides) summarizing your analysis, the PCA findings, the forecasted productivity, and your budget allocation strategy."
   ]
  },
  {
   "cell_type": "code",
   "execution_count": null,
   "id": "e0c0e43c-9fa3-46a9-b502-7aaa1766172d",
   "metadata": {},
   "outputs": [],
   "source": [
    "import pandas as pd\n",
    "\n",
    "# Load the dataset\n",
    "df = pd.read_excel('AssignmentData.xlsx')"
   ]
  },
  {
   "cell_type": "code",
   "execution_count": 3,
   "id": "92c2b9c6-baaa-4299-a1e9-84a679e64bfa",
   "metadata": {},
   "outputs": [
    {
     "data": {
      "text/html": [
       "<div>\n",
       "<style scoped>\n",
       "    .dataframe tbody tr th:only-of-type {\n",
       "        vertical-align: middle;\n",
       "    }\n",
       "\n",
       "    .dataframe tbody tr th {\n",
       "        vertical-align: top;\n",
       "    }\n",
       "\n",
       "    .dataframe thead th {\n",
       "        text-align: right;\n",
       "    }\n",
       "</style>\n",
       "<table border=\"1\" class=\"dataframe\">\n",
       "  <thead>\n",
       "    <tr style=\"text-align: right;\">\n",
       "      <th></th>\n",
       "      <th>Date</th>\n",
       "      <th>Quarter</th>\n",
       "      <th>Department</th>\n",
       "      <th>Targeted Productivity</th>\n",
       "      <th>Overtime</th>\n",
       "      <th>No. of Workers</th>\n",
       "      <th>Actual Productivity</th>\n",
       "    </tr>\n",
       "  </thead>\n",
       "  <tbody>\n",
       "    <tr>\n",
       "      <th>0</th>\n",
       "      <td>2015-01-01 00:00:00</td>\n",
       "      <td>Q1</td>\n",
       "      <td>Sewing</td>\n",
       "      <td>0.8</td>\n",
       "      <td>7080</td>\n",
       "      <td>59</td>\n",
       "      <td>0.940725</td>\n",
       "    </tr>\n",
       "    <tr>\n",
       "      <th>1</th>\n",
       "      <td>2015-01-01 00:00:00</td>\n",
       "      <td>Q1</td>\n",
       "      <td>Finishing</td>\n",
       "      <td>0.75</td>\n",
       "      <td>960</td>\n",
       "      <td>8</td>\n",
       "      <td>0.8865</td>\n",
       "    </tr>\n",
       "    <tr>\n",
       "      <th>2</th>\n",
       "      <td>2015-01-01 00:00:00</td>\n",
       "      <td>Q1</td>\n",
       "      <td>Sewing</td>\n",
       "      <td>0.8</td>\n",
       "      <td>3660</td>\n",
       "      <td>30.5</td>\n",
       "      <td>0.80057</td>\n",
       "    </tr>\n",
       "    <tr>\n",
       "      <th>3</th>\n",
       "      <td>2015-01-01 00:00:00</td>\n",
       "      <td>Q1</td>\n",
       "      <td>Sewing</td>\n",
       "      <td>0.8</td>\n",
       "      <td>3660</td>\n",
       "      <td>30.5</td>\n",
       "      <td>0.80057</td>\n",
       "    </tr>\n",
       "    <tr>\n",
       "      <th>4</th>\n",
       "      <td>2015-01-01 00:00:00</td>\n",
       "      <td>Q1</td>\n",
       "      <td>Sewing</td>\n",
       "      <td>0.8</td>\n",
       "      <td>1920</td>\n",
       "      <td>56</td>\n",
       "      <td>NaN</td>\n",
       "    </tr>\n",
       "    <tr>\n",
       "      <th>...</th>\n",
       "      <td>...</td>\n",
       "      <td>...</td>\n",
       "      <td>...</td>\n",
       "      <td>...</td>\n",
       "      <td>...</td>\n",
       "      <td>...</td>\n",
       "      <td>...</td>\n",
       "    </tr>\n",
       "    <tr>\n",
       "      <th>1192</th>\n",
       "      <td>2015-11-03 00:00:00</td>\n",
       "      <td>Q2</td>\n",
       "      <td>Finishing</td>\n",
       "      <td>0.75</td>\n",
       "      <td>960</td>\n",
       "      <td>8</td>\n",
       "      <td>0.628333</td>\n",
       "    </tr>\n",
       "    <tr>\n",
       "      <th>1193</th>\n",
       "      <td>2015-11-03 00:00:00</td>\n",
       "      <td>Q2</td>\n",
       "      <td>Finishing</td>\n",
       "      <td>0.7</td>\n",
       "      <td>960</td>\n",
       "      <td>8</td>\n",
       "      <td>NaN</td>\n",
       "    </tr>\n",
       "    <tr>\n",
       "      <th>1194</th>\n",
       "      <td>2015-11-03 00:00:00</td>\n",
       "      <td>Q2</td>\n",
       "      <td>Finishing</td>\n",
       "      <td>0.65</td>\n",
       "      <td>960</td>\n",
       "      <td>8</td>\n",
       "      <td>0.625625</td>\n",
       "    </tr>\n",
       "    <tr>\n",
       "      <th>1195</th>\n",
       "      <td>2015-11-03 00:00:00</td>\n",
       "      <td>Q2</td>\n",
       "      <td>Finishing</td>\n",
       "      <td>0.75</td>\n",
       "      <td>1800</td>\n",
       "      <td>15</td>\n",
       "      <td>0.505889</td>\n",
       "    </tr>\n",
       "    <tr>\n",
       "      <th>1196</th>\n",
       "      <td>2015-11-03 00:00:00</td>\n",
       "      <td>Q2</td>\n",
       "      <td>Finishing</td>\n",
       "      <td>0.7</td>\n",
       "      <td>720</td>\n",
       "      <td>6</td>\n",
       "      <td>0.394722</td>\n",
       "    </tr>\n",
       "  </tbody>\n",
       "</table>\n",
       "<p>1197 rows × 7 columns</p>\n",
       "</div>"
      ],
      "text/plain": [
       "                     Date Quarter Department Targeted Productivity Overtime  \\\n",
       "0     2015-01-01 00:00:00      Q1     Sewing                   0.8     7080   \n",
       "1     2015-01-01 00:00:00      Q1  Finishing                  0.75      960   \n",
       "2     2015-01-01 00:00:00      Q1     Sewing                   0.8     3660   \n",
       "3     2015-01-01 00:00:00      Q1     Sewing                   0.8     3660   \n",
       "4     2015-01-01 00:00:00      Q1     Sewing                   0.8     1920   \n",
       "...                   ...     ...        ...                   ...      ...   \n",
       "1192  2015-11-03 00:00:00      Q2  Finishing                  0.75      960   \n",
       "1193  2015-11-03 00:00:00      Q2  Finishing                   0.7      960   \n",
       "1194  2015-11-03 00:00:00      Q2  Finishing                  0.65      960   \n",
       "1195  2015-11-03 00:00:00      Q2  Finishing                  0.75     1800   \n",
       "1196  2015-11-03 00:00:00      Q2  Finishing                   0.7      720   \n",
       "\n",
       "     No. of Workers Actual Productivity  \n",
       "0                59            0.940725  \n",
       "1                 8              0.8865  \n",
       "2              30.5             0.80057  \n",
       "3              30.5             0.80057  \n",
       "4                56                 NaN  \n",
       "...             ...                 ...  \n",
       "1192              8            0.628333  \n",
       "1193              8                 NaN  \n",
       "1194              8            0.625625  \n",
       "1195             15            0.505889  \n",
       "1196              6            0.394722  \n",
       "\n",
       "[1197 rows x 7 columns]"
      ]
     },
     "execution_count": 3,
     "metadata": {},
     "output_type": "execute_result"
    }
   ],
   "source": [
    "df"
   ]
  },
  {
   "cell_type": "code",
   "execution_count": 5,
   "id": "24d691a1-f36f-408d-821c-f93d6c04d822",
   "metadata": {},
   "outputs": [
    {
     "name": "stdout",
     "output_type": "stream",
     "text": [
      "Missing values per column:\n",
      " Date                      0\n",
      "Quarter                   0\n",
      "Department                0\n",
      "Targeted Productivity     0\n",
      "Overtime                  0\n",
      "No. of Workers            0\n",
      "Actual Productivity      29\n",
      "dtype: int64\n"
     ]
    }
   ],
   "source": [
    "# Identify missing values\n",
    "missing_values = df.isnull().sum()\n",
    "print(\"Missing values per column:\\n\", missing_values)"
   ]
  },
  {
   "cell_type": "code",
   "execution_count": 7,
   "id": "8f0c519d-6ba0-48eb-8bfc-5f9096fcfb8f",
   "metadata": {},
   "outputs": [],
   "source": [
    "# Handling Missing Values\n",
    "# Drop columns with more than 50% missing values\n",
    "threshold = len(df) * 0.5\n",
    "df = df.dropna(axis=1, thresh=threshold)"
   ]
  },
  {
   "cell_type": "code",
   "execution_count": 9,
   "id": "ea8b5553-c1c9-441d-b075-c77f80fec923",
   "metadata": {},
   "outputs": [],
   "source": [
    "# Fill missing values for numerical columns with the median\n",
    "numerical_cols = df.select_dtypes(include=['float64', 'int64']).columns\n",
    "df[numerical_cols] = df[numerical_cols].fillna(df[numerical_cols].median())\n"
   ]
  },
  {
   "cell_type": "code",
   "execution_count": 11,
   "id": "1de8a744-bdf9-4844-ba57-76de52e323db",
   "metadata": {},
   "outputs": [
    {
     "name": "stderr",
     "output_type": "stream",
     "text": [
      "C:\\Users\\parth\\AppData\\Local\\Temp\\ipykernel_8604\\19044395.py:3: UserWarning: Unable to sort modes: '<' not supported between instances of 'datetime.datetime' and 'str'\n",
      "  df[categorical_cols] = df[categorical_cols].apply(lambda x: x.fillna(x.mode()[0]))\n"
     ]
    }
   ],
   "source": [
    "# Fill missing values for categorical columns with the mode\n",
    "categorical_cols = df.select_dtypes(include=['object']).columns\n",
    "df[categorical_cols] = df[categorical_cols].apply(lambda x: x.fillna(x.mode()[0]))\n"
   ]
  },
  {
   "cell_type": "code",
   "execution_count": 13,
   "id": "f9755852-dc1d-4228-baa9-4abc84dbca04",
   "metadata": {},
   "outputs": [],
   "source": [
    "#Alternatively, you could fill with a placeholder like 'Unknown'\n",
    "df[categorical_cols] = df[categorical_cols].fillna('Unknown')\n"
   ]
  },
  {
   "cell_type": "code",
   "execution_count": 15,
   "id": "19aa9ceb-d754-4982-9ff0-0318c9c3c837",
   "metadata": {},
   "outputs": [
    {
     "name": "stdout",
     "output_type": "stream",
     "text": [
      "Number of duplicate rows: 35\n"
     ]
    }
   ],
   "source": [
    "# Identify duplicates\n",
    "duplicates = df.duplicated()\n",
    "print(\"Number of duplicate rows:\", duplicates.sum())\n"
   ]
  },
  {
   "cell_type": "code",
   "execution_count": 19,
   "id": "98895435-aca4-4a36-97c7-ad2d8fe8655c",
   "metadata": {},
   "outputs": [],
   "source": [
    "# Drop duplicate rows\n",
    "df = df.drop_duplicates()\n",
    "\n",
    "# Save the cleaned dataset\n",
    "df.to_csv('AssignmentData.xlsx', index=False)"
   ]
  },
  {
   "cell_type": "markdown",
   "id": "473a39e6-f25c-4ea1-8d42-6fe1504f2172",
   "metadata": {},
   "source": [
    "Section 2 - Anomaly detection\n",
    "You are tasked with detecting fraudulent transactions from a large dataset of credit card transactions. The data contains both normal and fraudulent transactions, and your goal is to identify the anomalies (frauds) using an unsupervised learning approach.\n",
    "\n",
    "Anomaly detection references\n",
    "\n",
    "Anomaly Detection in Machine Learning - Shiksha Article\n",
    "Anomaly detection - Springer Research paper\n",
    "Import the creditcard sheet from the provided dataset. This dataset contains transactions made by credit cards in September 2013 by European cardholders. It presents transactions that occurred over two days, with 492 frauds out of 2,84,807 transactions.\n",
    "\n",
    "Data Import and Exploration\n",
    "Import the creditcard.csv file into a dataframe named transactions.\n",
    "Perform exploratory data analysis (EDA) to understand the distribution of the data, focusing on the Class column, which indicates whether a transaction is fraudulent (1) or not (0).\n",
    "Visualize the distribution of transaction amounts for both fraudulent and non-fraudulent transactions.\n",
    "\n",
    "Expectation: You are expected to present your interpretation of the dataset. Use visualisations to aid yourself.\n",
    "Feature Engineering\n",
    "The dataset includes 28 anonymized features (V1 to V28), along with Time and Amount.\n",
    "Perform feature scaling on the Amount and Time features. Justify your choice of scaling method (e.g., Min-Max scaling, Standardization).\n",
    "Consider dimensionality reduction (e.g., PCA) to visualize the data in two dimensions. Use the PCA-transformed (if used) features for subsequent anomaly detection.\n",
    "Anomaly Detection Model\n",
    "Implement an anomaly detection model using any two of the following methods:\n",
    "Isolation Forest\n",
    "Local Outlier Factor (LOF)\n",
    "Autoencoders (for deep learning)\n",
    "Train the model on the entire dataset, treating the majority class (Class = 0) as normal transactions and the minority class (Class = 1) as anomalies.\n",
    "Evaluate the model’s performance using Precision, Recall, F1-Score, and ROC-AUC. Discuss the trade-offs in detecting frauds (e.g., false positives vs. false negatives).\n",
    "\n",
    "Expectation: The evaluation metrics should be presented clearly. Present your views on the model, and what it means.\n",
    "Visualizing Anomalies\n",
    "\n",
    "Create a scatter plot of the two most significant features (after PCA or from the original features) with points colored based on whether they were classified as normal or fraudulent.\n",
    "\n",
    "Write a function that accepts a new dataset of credit card transactions and the trained anomaly detection model, returning a list of transactions classified as fraudulent.\n",
    "\n",
    "Develop a simple Streamlit app (you can follow this tutorial) that allows users to upload a new set of credit card transactions, runs the anomaly detection model, and displays the results, including the visualizations of detected anomalies. For this, use the creditcard_test sheet provided in the data file. Finally, host this app on Streamlit Community Cloud using this tutorial.\n",
    "\n",
    "Provide the link to the site as a text cell or comment\n",
    "\n",
    "Note: You get bonus points for a neater and more presentable app.\n",
    "\n"
   ]
  },
  {
   "cell_type": "markdown",
   "id": "0a65e9e2-94a6-4072-bcaf-dbc7308deaa7",
   "metadata": {},
   "source": [
    "PCA"
   ]
  },
  {
   "cell_type": "code",
   "execution_count": 22,
   "id": "8fea04b3-0270-44ac-a5d9-aca0ced0aad7",
   "metadata": {},
   "outputs": [],
   "source": [
    "import pandas as pd\n",
    "from sklearn.decomposition import PCA\n",
    "from sklearn.preprocessing import StandardScaler\n",
    "import matplotlib.pyplot as plt\n",
    "import numpy as np\n"
   ]
  },
  {
   "cell_type": "code",
   "execution_count": null,
   "id": "45fbdb51-4003-4558-9455-93bb671e3701",
   "metadata": {},
   "outputs": [],
   "source": []
  },
  {
   "cell_type": "code",
   "execution_count": 24,
   "id": "841f52d4-8871-4d94-84a0-d69bae2be975",
   "metadata": {},
   "outputs": [],
   "source": [
    "\n",
    "# Select the relevant features\n",
    "features = ['Targeted Productivity', 'Overtime', 'No. of Workers', 'Actual Productivity']\n",
    "X = df[features]\n"
   ]
  },
  {
   "cell_type": "code",
   "execution_count": 60,
   "id": "fbbac954-1fb8-440b-a51d-da9981344eb1",
   "metadata": {},
   "outputs": [
    {
     "name": "stdout",
     "output_type": "stream",
     "text": [
      "Column 'Targeted Productivity' has non-numeric values:\n",
      "67   NaN\n",
      "Name: Targeted Productivity, dtype: float64\n",
      "Column 'Overtime' has non-numeric values:\n",
      "182   NaN\n",
      "Name: Overtime, dtype: float64\n",
      "Column 'No. of Workers' has non-numeric values:\n",
      "238   NaN\n",
      "Name: No. of Workers, dtype: float64\n",
      "Column 'Actual Productivity' has non-numeric values:\n",
      "136   NaN\n",
      "Name: Actual Productivity, dtype: float64\n"
     ]
    }
   ],
   "source": [
    "# Check for non-numeric values in each feature column\n",
    "for col in features:\n",
    "    non_numeric = df[col][pd.to_numeric(df[col], errors='coerce').isnull()]\n",
    "    if len(non_numeric) > 0:\n",
    "        print(f\"Column '{col}' has non-numeric values:\")\n",
    "        print(non_numeric)\n"
   ]
  },
  {
   "cell_type": "code",
   "execution_count": 62,
   "id": "40d831c7-ee61-4631-996a-21e4a89b5672",
   "metadata": {},
   "outputs": [],
   "source": [
    "# Convert columns to numeric, forcing errors to NaN\n",
    "for col in features:\n",
    "    df[col] = pd.to_numeric(df[col], errors='coerce')\n",
    "\n",
    "# Drop rows with NaN values (those were non-numeric)\n",
    "df_cleaned = df.dropna(subset=features)\n"
   ]
  },
  {
   "cell_type": "code",
   "execution_count": 64,
   "id": "a5b1da26-0b1c-4255-8ee7-c06a84bda059",
   "metadata": {},
   "outputs": [
    {
     "name": "stderr",
     "output_type": "stream",
     "text": [
      "C:\\Users\\parth\\AppData\\Local\\Temp\\ipykernel_8604\\1768789754.py:5: FutureWarning: A value is trying to be set on a copy of a DataFrame or Series through chained assignment using an inplace method.\n",
      "The behavior will change in pandas 3.0. This inplace method will never work because the intermediate object on which we are setting values always behaves as a copy.\n",
      "\n",
      "For example, when doing 'df[col].method(value, inplace=True)', try using 'df.method({col: value}, inplace=True)' or df[col] = df[col].method(value) instead, to perform the operation inplace on the original object.\n",
      "\n",
      "\n",
      "  df[col].fillna(median_value, inplace=True)  # Replace NaN with median\n"
     ]
    }
   ],
   "source": [
    "# Replace non-numeric values with a specific number, such as the mean or median\n",
    "for col in features:\n",
    "    df[col] = pd.to_numeric(df[col], errors='coerce')  # Convert to numeric\n",
    "    median_value = df[col].median()  # Calculate median\n",
    "    df[col].fillna(median_value, inplace=True)  # Replace NaN with median\n"
   ]
  },
  {
   "cell_type": "code",
   "execution_count": 66,
   "id": "3ed1594e-f7eb-4b05-a371-ca01205010e0",
   "metadata": {},
   "outputs": [],
   "source": [
    "# Now standardize the cleaned data\n",
    "scaler = StandardScaler()\n",
    "X_scaled = scaler.fit_transform(df_cleaned[features])\n",
    "\n",
    "# Proceed with PCA\n",
    "pca = PCA()\n",
    "X_pca = pca.fit_transform(X_scaled)\n"
   ]
  },
  {
   "cell_type": "code",
   "execution_count": 68,
   "id": "9ffd39dc-f0ff-4dff-b5c1-ebde8af9bfee",
   "metadata": {},
   "outputs": [
    {
     "name": "stdout",
     "output_type": "stream",
     "text": [
      "Number of principal components that explain at least 90% of the variance: 3\n"
     ]
    }
   ],
   "source": [
    "# Explained variance by each principal component\n",
    "explained_variance = pca.explained_variance_ratio_\n",
    "cumulative_variance = np.cumsum(explained_variance)\n",
    "\n",
    "# Determine the number of principal components that explain at least 90% of the variance\n",
    "num_components = np.argmax(cumulative_variance >= 0.90) + 1\n",
    "\n",
    "print(f\"Number of principal components that explain at least 90% of the variance: {num_components}\")"
   ]
  },
  {
   "cell_type": "code",
   "execution_count": 70,
   "id": "8a90e85e-470f-4bc9-bbcf-44cd029d9384",
   "metadata": {},
   "outputs": [
    {
     "data": {
      "image/png": "[encoded data removed]",
      "text/plain": [
       "<Figure size 800x500 with 1 Axes>"
      ]
     },
     "metadata": {},
     "output_type": "display_data"
    }
   ],
   "source": [
    "# Plot the explained variance\n",
    "plt.figure(figsize=(8, 5))\n",
    "plt.plot(range(1, len(explained_variance) + 1), explained_variance, marker='o', linestyle='--', label='Individual Explained Variance')\n",
    "plt.plot(range(1, len(cumulative_variance) + 1), cumulative_variance, marker='o', linestyle='-', label='Cumulative Explained Variance')\n",
    "plt.axhline(y=0.90, color='r', linestyle='-')\n",
    "plt.xlabel('Principal Component')\n",
    "plt.ylabel('Explained Variance Ratio')\n",
    "plt.title('Explained Variance by Principal Components')\n",
    "plt.legend()\n",
    "plt.grid()\n",
    "plt.show()\n"
   ]
  },
  {
   "cell_type": "code",
   "execution_count": 72,
   "id": "846dcbd4-cf55-4767-ad30-16e41283119b",
   "metadata": {},
   "outputs": [],
   "source": [
    "# Save the interpretation to a text file\n",
    "with open('PCA_Interpretation.txt', 'w') as file:\n",
    "    file.write(f\"Number of principal components that explain at least 90% of the variance: {num_components}\\n\")\n",
    "    file.write(\"Insights from PCA:\\n\")\n",
    "    file.write(\"Principal Components:\\n\")\n",
    "    file.write(\"1. The first principal component captures the overall productivity dynamics.\\n\")\n",
    "    file.write(\"2. Subsequent components capture variations in overtime and the number of workers.\\n\")\n",
    "    file.write(\"How to Use Principal Components:\\n\")\n",
    "    file.write(\"1. Reduce the complexity of analysis.\\n\")\n",
    "    file.write(\"2. Understand how factors interact and affect actual productivity.\\n\")\n",
    "    file.write(\"3. Focus on components that explain most of the variance for predictive modeling.\\n\")\n"
   ]
  },
  {
   "cell_type": "code",
   "execution_count": null,
   "id": "3b1af9da-85e5-4931-8f08-ce703b938383",
   "metadata": {},
   "outputs": [],
   "source": []
  },
  {
   "cell_type": "code",
   "execution_count": null,
   "id": "770b8d6d-f855-486d-a9de-5dc37c47e9c5",
   "metadata": {},
   "outputs": [],
   "source": []
  },
  {
   "cell_type": "code",
   "execution_count": null,
   "id": "8e9c4c2d-25a6-473c-ad03-d17c2db04b39",
   "metadata": {},
   "outputs": [],
   "source": []
  },
  {
   "cell_type": "code",
   "execution_count": null,
   "id": "7cbf6b4b-ed18-41ea-a4f9-8a927ee24690",
   "metadata": {},
   "outputs": [],
   "source": []
  }
 ],
 "metadata": {
  "kernelspec": {
   "display_name": "Python 3 (ipykernel)",
   "language": "python",
   "name": "python3"
  },
  "language_info": {
   "codemirror_mode": {
    "name": "ipython",
    "version": 3
   },
   "file_extension": ".py",
   "mimetype": "text/x-python",
   "name": "python",
   "nbconvert_exporter": "python",
   "pygments_lexer": "ipython3",
   "version": "3.12.4"
  }
 },
 "nbformat": 4,
 "nbformat_minor": 5
}
